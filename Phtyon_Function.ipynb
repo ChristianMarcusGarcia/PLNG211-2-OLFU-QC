{
  "nbformat": 4,
  "nbformat_minor": 0,
  "metadata": {
    "colab": {
      "provenance": [],
      "authorship_tag": "ABX9TyNve8RPufV5WjgUPlB0cg7M",
      "include_colab_link": true
    },
    "kernelspec": {
      "name": "python3",
      "display_name": "Python 3"
    },
    "language_info": {
      "name": "python"
    }
  },
  "cells": [
    {
      "cell_type": "markdown",
      "metadata": {
        "id": "view-in-github",
        "colab_type": "text"
      },
      "source": [
        "<a href=\"https://colab.research.google.com/github/ChristianMarcusGarcia/PLNG211-2-OLFU-QC/blob/main/Phtyon_Function.ipynb\" target=\"_parent\"><img src=\"https://colab.research.google.com/assets/colab-badge.svg\" alt=\"Open In Colab\"/></a>"
      ]
    },
    {
      "cell_type": "code",
      "execution_count": 9,
      "metadata": {
        "colab": {
          "base_uri": "https://localhost:8080/"
        },
        "id": "RBD_EK7xdkXl",
        "outputId": "e90539e2-e0ed-4d8e-9e6e-b5295d567e57"
      },
      "outputs": [
        {
          "output_type": "execute_result",
          "data": {
            "text/plain": [
              "3.3"
            ]
          },
          "metadata": {},
          "execution_count": 9
        }
      ],
      "source": [
        "#Example 1\n",
        "abs (-9)\n",
        "\n",
        "abs(3.3)"
      ]
    },
    {
      "cell_type": "code",
      "source": [
        "#Example 2\n",
        "pow(abs(-2), round (4.3))"
      ],
      "metadata": {
        "colab": {
          "base_uri": "https://localhost:8080/"
        },
        "id": "WCHw_zI5eBCJ",
        "outputId": "44b6078e-7497-4fbc-9bdf-11ad10e89807"
      },
      "execution_count": 8,
      "outputs": [
        {
          "output_type": "execute_result",
          "data": {
            "text/plain": [
              "16"
            ]
          },
          "metadata": {},
          "execution_count": 8
        }
      ]
    },
    {
      "cell_type": "code",
      "source": [
        "#Example 3\n",
        "int(34.6)\n",
        "\n",
        "int(4.3)\n",
        "\n",
        "float(21)"
      ],
      "metadata": {
        "colab": {
          "base_uri": "https://localhost:8080/"
        },
        "id": "h9dJiacMej5z",
        "outputId": "b3d343a5-fcc3-4cd5-8acf-28e6af868877"
      },
      "execution_count": 7,
      "outputs": [
        {
          "output_type": "execute_result",
          "data": {
            "text/plain": [
              "21.0"
            ]
          },
          "metadata": {},
          "execution_count": 7
        }
      ]
    },
    {
      "cell_type": "code",
      "source": [
        "#Example 4\n",
        "convert_to_celsius(212)"
      ],
      "metadata": {
        "colab": {
          "base_uri": "https://localhost:8080/"
        },
        "id": "myu3q-dye3eI",
        "outputId": "8b874cae-2030-4829-f986-bf19979c03c5"
      },
      "execution_count": 12,
      "outputs": [
        {
          "output_type": "execute_result",
          "data": {
            "text/plain": [
              "100.0"
            ]
          },
          "metadata": {},
          "execution_count": 12
        }
      ]
    },
    {
      "cell_type": "code",
      "source": [
        "#Creating own function\n",
        "def convert_to_celsius(fahrenheit):\n",
        "  return(fahrenheit-32)*5/9\n",
        "\n",
        "fahrenheit = int(input())\n",
        "print(\"Fahrenheit to Celsius\",round(convert_to_celsius(fahrenheit),2))"
      ],
      "metadata": {
        "colab": {
          "base_uri": "https://localhost:8080/"
        },
        "id": "V1Edgiu5fLI3",
        "outputId": "80c73170-f393-412f-a2c7-92dba0976c87"
      },
      "execution_count": 25,
      "outputs": [
        {
          "output_type": "stream",
          "name": "stdout",
          "text": [
            "100\n",
            "Fahrenheit to Celsius 37.78\n"
          ]
        }
      ]
    },
    {
      "cell_type": "code",
      "source": [
        "#Create a function that will display three consecutive my_function values\n",
        "def my_function(fname):\n",
        "  print(fname + \"Sayo\")\n",
        "\n",
        "my_function(\"Maria\")\n",
        "my_function(\"Rizette\") \n",
        "my_function(\"Mam\")  "
      ],
      "metadata": {
        "colab": {
          "base_uri": "https://localhost:8080/"
        },
        "id": "-70LuJ8YhW6m",
        "outputId": "d7193106-b993-43c1-ee8c-2cac1b582b9e"
      },
      "execution_count": 30,
      "outputs": [
        {
          "output_type": "stream",
          "name": "stdout",
          "text": [
            "MariaSayo\n",
            "RizetteSayo\n",
            "MamSayo\n"
          ]
        }
      ]
    },
    {
      "cell_type": "code",
      "source": [
        "#Returns a Value\n",
        "\n",
        "def my_function(x):\n",
        "  return 5 + x\n",
        "print(my_function(3)) \n",
        "print(my_function(5))  \n",
        "print(my_function(9))   \n",
        "\n"
      ],
      "metadata": {
        "colab": {
          "base_uri": "https://localhost:8080/"
        },
        "id": "yeMKT_X-iScG",
        "outputId": "6ec43a28-038a-4d83-a7ba-d47db7710666"
      },
      "execution_count": 32,
      "outputs": [
        {
          "output_type": "stream",
          "name": "stdout",
          "text": [
            "8\n",
            "10\n",
            "14\n"
          ]
        }
      ]
    },
    {
      "cell_type": "code",
      "source": [
        "#Exercise 1\n",
        "print(min(2, 3, 4))\n",
        "print(max(2,-3,4,7,-5))\n",
        "print(max(2,-3,min(4,7), -5))\n"
      ],
      "metadata": {
        "colab": {
          "base_uri": "https://localhost:8080/"
        },
        "id": "v0LGpzJLioVB",
        "outputId": "4f660b1e-2c67-4a02-ce6c-a55106d8f232"
      },
      "execution_count": 40,
      "outputs": [
        {
          "output_type": "stream",
          "name": "stdout",
          "text": [
            "2\n",
            "7\n",
            "4\n"
          ]
        }
      ]
    },
    {
      "cell_type": "code",
      "source": [
        "#Exercise 2\n",
        "import math\n",
        "def sum(f,s,t):\n",
        "  return f + s + t\n",
        "def ave(f,s,t):\n",
        "  return (f + s + t)/3\n",
        "def squared(f,s,t):\n",
        "  return math.pow(f,2) + math.pow(s,2) + math.pow(t,2)\n",
        "\n",
        "f = int(input())\n",
        "s = int(input())\n",
        "t = int(input())\n",
        "\n",
        "print(\"Sum=\", sum(f,s,t))\n",
        "print(\"Average=\", ave(f,s,t))\n",
        "print(\"Sum of Squares=\", squared(f,s,t))"
      ],
      "metadata": {
        "colab": {
          "base_uri": "https://localhost:8080/"
        },
        "id": "LAAw-IkJmJto",
        "outputId": "6d4b0bb3-199b-459a-baaa-043cb1098f8e"
      },
      "execution_count": 38,
      "outputs": [
        {
          "output_type": "stream",
          "name": "stdout",
          "text": [
            "2\n",
            "3\n",
            "4\n",
            "Sum= 9\n",
            "Average= 3.0\n",
            "Sum of Squares= 29.0\n"
          ]
        }
      ]
    },
    {
      "cell_type": "code",
      "source": [
        "#Application\n",
        "#Create a formula of area of different shapes\n",
        "\n",
        "def rectangle(l,w):\n",
        "  return l*w\n",
        "def square(s):\n",
        "  return pow(s,2)\n",
        "\n",
        "l=int(input())\n",
        "w=int(input())\n",
        "print(rectangle(l,w))\n"
      ],
      "metadata": {
        "colab": {
          "base_uri": "https://localhost:8080/"
        },
        "id": "kUCvRtMrmOnO",
        "outputId": "07165a5e-19ef-45eb-99f5-382a0849f13e"
      },
      "execution_count": 37,
      "outputs": [
        {
          "output_type": "stream",
          "name": "stdout",
          "text": [
            "5\n",
            "3\n",
            "15\n"
          ]
        }
      ]
    }
  ]
}