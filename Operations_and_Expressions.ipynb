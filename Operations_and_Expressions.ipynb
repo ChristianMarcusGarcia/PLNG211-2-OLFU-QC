{
  "nbformat": 4,
  "nbformat_minor": 0,
  "metadata": {
    "colab": {
      "provenance": [],
      "authorship_tag": "ABX9TyPJcfLe2b++IUV/JdPuF5EZ",
      "include_colab_link": true
    },
    "kernelspec": {
      "name": "python3",
      "display_name": "Python 3"
    },
    "language_info": {
      "name": "python"
    }
  },
  "cells": [
    {
      "cell_type": "markdown",
      "metadata": {
        "id": "view-in-github",
        "colab_type": "text"
      },
      "source": [
        "<a href=\"https://colab.research.google.com/github/ChristianMarcusGarcia/PLNG211-2-OLFU-QC/blob/main/Operations_and_Expressions.ipynb\" target=\"_parent\"><img src=\"https://colab.research.google.com/assets/colab-badge.svg\" alt=\"Open In Colab\"/></a>"
      ]
    },
    {
      "cell_type": "markdown",
      "source": [
        "Boolean Operators"
      ],
      "metadata": {
        "id": "YoSEL7C09VLP"
      }
    },
    {
      "cell_type": "code",
      "source": [
        "a = 10\n",
        "b = 5\n",
        "print(a>b)\n",
        "print(b==a)\n",
        "print(5>10)"
      ],
      "metadata": {
        "colab": {
          "base_uri": "https://localhost:8080/"
        },
        "id": "hPl7yw0R9Yo6",
        "outputId": "c7048e03-f585-43d8-ef70-8f5760f4f36b"
      },
      "execution_count": 3,
      "outputs": [
        {
          "output_type": "stream",
          "name": "stdout",
          "text": [
            "True\n",
            "False\n",
            "False\n"
          ]
        }
      ]
    },
    {
      "cell_type": "markdown",
      "source": [
        "Boolean Function"
      ],
      "metadata": {
        "id": "dKdZoZKo-D-N"
      }
    },
    {
      "cell_type": "code",
      "source": [
        "print(bool(2))\n",
        "print(bool(\"Hello World\"))\n",
        "print(bool(0))\n",
        "print(bool(None))\n",
        "print(bool([]))"
      ],
      "metadata": {
        "colab": {
          "base_uri": "https://localhost:8080/"
        },
        "id": "j2OgFeZ1-GGJ",
        "outputId": "a8337a6c-c98b-44ba-c78f-8db536b0f740"
      },
      "execution_count": 6,
      "outputs": [
        {
          "output_type": "stream",
          "name": "stdout",
          "text": [
            "True\n",
            "True\n",
            "False\n",
            "False\n",
            "False\n"
          ]
        }
      ]
    },
    {
      "cell_type": "markdown",
      "source": [
        "Function that returns a boolean answer"
      ],
      "metadata": {
        "id": "aimY6h0c-T8L"
      }
    },
    {
      "cell_type": "code",
      "source": [
        "def myFunction():\n",
        "  return False\n",
        "\n",
        "if myFunction():\n",
        "  print(\"Correct\")\n",
        "else:\n",
        "  print(\"Incorrect\")"
      ],
      "metadata": {
        "colab": {
          "base_uri": "https://localhost:8080/"
        },
        "id": "VneGCLzH-uWL",
        "outputId": "17ac96be-38ba-49eb-c852-f3a218905352"
      },
      "execution_count": 14,
      "outputs": [
        {
          "output_type": "stream",
          "name": "stdout",
          "text": [
            "Incorrect\n"
          ]
        }
      ]
    },
    {
      "cell_type": "markdown",
      "source": [
        "You Try!"
      ],
      "metadata": {
        "id": "XFFQeFQy_imC"
      }
    },
    {
      "cell_type": "code",
      "source": [
        "c=6\n",
        "d=7\n",
        "print(c==d)\n",
        "print(c!=d)"
      ],
      "metadata": {
        "colab": {
          "base_uri": "https://localhost:8080/"
        },
        "id": "S7wqzJEr_jpe",
        "outputId": "29abfdab-aecc-45b7-b428-d4cf035416d5"
      },
      "execution_count": 16,
      "outputs": [
        {
          "output_type": "stream",
          "name": "stdout",
          "text": [
            "False\n",
            "True\n"
          ]
        }
      ]
    },
    {
      "cell_type": "markdown",
      "source": [
        "Python Operators"
      ],
      "metadata": {
        "id": "zcnjFUTtAwvD"
      }
    },
    {
      "cell_type": "code",
      "source": [
        "print(5+15)\n",
        "print(15-5)\n",
        "print(5*5)  #multiply\n",
        "print(5**5) #power\n",
        "print(9/3)  #division\n",
        "print(9//4) #floor division\n",
        "print(9%4)  #remainder"
      ],
      "metadata": {
        "colab": {
          "base_uri": "https://localhost:8080/"
        },
        "id": "iZvELvWDA6jh",
        "outputId": "38748968-93a3-4a1a-a501-0d349ff0bc9a"
      },
      "execution_count": 17,
      "outputs": [
        {
          "output_type": "stream",
          "name": "stdout",
          "text": [
            "20\n",
            "10\n",
            "25\n",
            "3125\n",
            "3.0\n",
            "2\n",
            "1\n"
          ]
        }
      ]
    },
    {
      "cell_type": "markdown",
      "source": [
        "Python Bitwise Operators"
      ],
      "metadata": {
        "id": "Mj1RBxCgBTU4"
      }
    },
    {
      "cell_type": "code",
      "source": [
        "e = 60\n",
        "f = 13         #00001101, 1s complement\n",
        "print(e&f)     #Binary AND\n",
        "print(e|f)     #Binary OR\n",
        "print(e^f)     #Binary XOR\n",
        "print(~f)      #Binary Ones Complement\n",
        "print(e<<1)    #Binary Left Shift\n",
        "print(e>>1)    #Binary Right Shift"
      ],
      "metadata": {
        "colab": {
          "base_uri": "https://localhost:8080/"
        },
        "id": "_D4q47z0BaKh",
        "outputId": "543afa6f-11b1-4f8b-80bb-9069ed1f97d1"
      },
      "execution_count": 30,
      "outputs": [
        {
          "output_type": "stream",
          "name": "stdout",
          "text": [
            "12\n",
            "61\n",
            "49\n",
            "-14\n",
            "120\n",
            "30\n"
          ]
        }
      ]
    },
    {
      "cell_type": "markdown",
      "source": [
        "Python Assignment Operator"
      ],
      "metadata": {
        "id": "HmYT_VmpFo3x"
      }
    },
    {
      "cell_type": "code",
      "source": [
        "x= 18\n",
        "y= 7\n",
        "x+=3    #same as x = x + 3 , x = 18 + 3 =21\n",
        "\n",
        "print(\"x=\", x)"
      ],
      "metadata": {
        "colab": {
          "base_uri": "https://localhost:8080/"
        },
        "id": "dqojKsU1FrEB",
        "outputId": "f85a013f-1e6a-400f-bf37-9a2e8008c676"
      },
      "execution_count": 34,
      "outputs": [
        {
          "output_type": "stream",
          "name": "stdout",
          "text": [
            "x= 21\n"
          ]
        }
      ]
    },
    {
      "cell_type": "markdown",
      "source": [
        "Logical Operator"
      ],
      "metadata": {
        "id": "TmobBQ0RGZPV"
      }
    },
    {
      "cell_type": "code",
      "source": [
        "print(x>y and x==x)\n",
        "print(y!=y or x==y)\n",
        "print(~y!=y or x==y)  #negation"
      ],
      "metadata": {
        "colab": {
          "base_uri": "https://localhost:8080/"
        },
        "id": "67WalG0CGrnT",
        "outputId": "5f710930-8ee5-4509-a894-ffd3cb4a4c54"
      },
      "execution_count": 44,
      "outputs": [
        {
          "output_type": "stream",
          "name": "stdout",
          "text": [
            "True\n",
            "False\n",
            "True\n"
          ]
        }
      ]
    },
    {
      "cell_type": "markdown",
      "source": [
        "Identity Operators"
      ],
      "metadata": {
        "id": "w-DSG-QOH5QT"
      }
    },
    {
      "cell_type": "code",
      "source": [
        "#is, is not\n",
        "print(x is y)\n",
        "print(x is x)\n",
        "print(x is not y)"
      ],
      "metadata": {
        "colab": {
          "base_uri": "https://localhost:8080/"
        },
        "id": "3RL1YsGKH7LK",
        "outputId": "92b5cc90-c3be-4d68-a6d7-91c137d3bfae"
      },
      "execution_count": 46,
      "outputs": [
        {
          "output_type": "stream",
          "name": "stdout",
          "text": [
            "False\n",
            "True\n",
            "True\n"
          ]
        }
      ]
    }
  ]
}