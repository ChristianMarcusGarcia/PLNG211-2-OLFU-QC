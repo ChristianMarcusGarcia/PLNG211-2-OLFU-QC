{
  "nbformat": 4,
  "nbformat_minor": 0,
  "metadata": {
    "colab": {
      "provenance": [],
      "authorship_tag": "ABX9TyOQjx3F6oeVtuyu9a5/+v9K",
      "include_colab_link": true
    },
    "kernelspec": {
      "name": "python3",
      "display_name": "Python 3"
    },
    "language_info": {
      "name": "python"
    }
  },
  "cells": [
    {
      "cell_type": "markdown",
      "metadata": {
        "id": "view-in-github",
        "colab_type": "text"
      },
      "source": [
        "<a href=\"https://colab.research.google.com/github/ChristianMarcusGarcia/PLNG211-2-OLFU-QC/blob/main/Asychronous_Activity.ipynb\" target=\"_parent\"><img src=\"https://colab.research.google.com/assets/colab-badge.svg\" alt=\"Open In Colab\"/></a>"
      ]
    },
    {
      "cell_type": "code",
      "execution_count": 4,
      "metadata": {
        "colab": {
          "base_uri": "https://localhost:8080/"
        },
        "id": "3KFC0Nc6UD0-",
        "outputId": "fbe68352-173b-4985-856b-3d2d4a2244ad"
      },
      "outputs": [
        {
          "output_type": "stream",
          "name": "stdout",
          "text": [
            "Salary: 9000\n",
            "Taxable Amount: 270.0\n",
            "Net_pay: 8730.0\n"
          ]
        }
      ],
      "source": [
        "Salary_rate = 600\n",
        "Salary = Salary_rate*15\n",
        "Tax = Salary*.03\n",
        "Net_pay = Salary - Tax\n",
        "print(\"Salary:\",Salary)\n",
        "print(\"Taxable Amount:\",Tax)\n",
        "print(\"Net_pay:\", Net_pay)"
      ]
    }
  ]
}