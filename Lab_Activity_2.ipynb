{
  "nbformat": 4,
  "nbformat_minor": 0,
  "metadata": {
    "colab": {
      "provenance": [],
      "authorship_tag": "ABX9TyOTNGTBL48GP1v2xLDe/jb3",
      "include_colab_link": true
    },
    "kernelspec": {
      "name": "python3",
      "display_name": "Python 3"
    },
    "language_info": {
      "name": "python"
    }
  },
  "cells": [
    {
      "cell_type": "markdown",
      "metadata": {
        "id": "view-in-github",
        "colab_type": "text"
      },
      "source": [
        "<a href=\"https://colab.research.google.com/github/ChristianMarcusGarcia/PLNG211-2-OLFU-QC/blob/main/Lab_Activity_2.ipynb\" target=\"_parent\"><img src=\"https://colab.research.google.com/assets/colab-badge.svg\" alt=\"Open In Colab\"/></a>"
      ]
    },
    {
      "cell_type": "code",
      "execution_count": 18,
      "metadata": {
        "colab": {
          "base_uri": "https://localhost:8080/"
        },
        "id": "ffhww3GwXGEN",
        "outputId": "58620c49-6519-47d8-98f0-3b3ded532c53"
      },
      "outputs": [
        {
          "output_type": "stream",
          "name": "stdout",
          "text": [
            "Christian Marcus M. Garcia\n",
            "0219-872-344\n",
            "22\n",
            "BSCS\n"
          ]
        }
      ],
      "source": [
        "#Write a Python to display your full name, student number, age, and course\n",
        "print(\"Christian Marcus M. Garcia\")\n",
        "print(\"0219-872-344\")\n",
        "print(\"22\")\n",
        "print(\"BSCS\")\n",
        "\n",
        "\n"
      ]
    },
    {
      "cell_type": "code",
      "source": [
        "#Create a class named Student with attributes: Name, Student_No, Age, School, and Course\n",
        "#Create an object name Myself and assign an instance for each attribute.\n",
        "#Create a method Info() using an instantiation of a class.\n",
        "class Student:\n",
        "  def __init__(Myself,name,number,age,school,course):\n",
        "    Myself.name= name\n",
        "    Myself.number = number\n",
        "    Myself.age = age\n",
        "    Myself.school = school\n",
        "    Myself.course = course\n",
        "  def Info(Myself):\n",
        "    print(\"Name:\",Myself.name)\n",
        "    print(\"Student number:\",Myself.number)\n",
        "    print(\"Age:\",Myself.age)\n",
        "    print(\"School:\",Myself.school)\n",
        "    print(\"Course:\",Myself.course)\n",
        "\n",
        "   \n",
        "\n",
        "p1 =Student(\"Garcia, Christian Marcus M.\",\"0219-8721-344\", 22,\"Our Lady of Fatim University\",\"BSCS\")\n",
        "p1.Info()\n",
        "\n"
      ],
      "metadata": {
        "colab": {
          "base_uri": "https://localhost:8080/"
        },
        "id": "1NjOKwJPcqmw",
        "outputId": "c642d6c3-edce-40bb-fc16-2ebff77e18e4"
      },
      "execution_count": 41,
      "outputs": [
        {
          "output_type": "stream",
          "name": "stdout",
          "text": [
            "Name: Garcia, Christian Marcus M.\n",
            "Student number: 0219-8721-344\n",
            "Age: 22\n",
            "School: Our Lady of Fatim University\n",
            "Course: BSCS\n"
          ]
        }
      ]
    }
  ]
}