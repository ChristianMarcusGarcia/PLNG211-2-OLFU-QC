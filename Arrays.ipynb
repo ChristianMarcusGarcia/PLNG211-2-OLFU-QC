{
  "nbformat": 4,
  "nbformat_minor": 0,
  "metadata": {
    "colab": {
      "provenance": [],
      "authorship_tag": "ABX9TyM6WsI/t1d4JOQU7/PqgXw7",
      "include_colab_link": true
    },
    "kernelspec": {
      "name": "python3",
      "display_name": "Python 3"
    },
    "language_info": {
      "name": "python"
    }
  },
  "cells": [
    {
      "cell_type": "markdown",
      "metadata": {
        "id": "view-in-github",
        "colab_type": "text"
      },
      "source": [
        "<a href=\"https://colab.research.google.com/github/ChristianMarcusGarcia/PLNG211-2-OLFU-QC/blob/main/Arrays.ipynb\" target=\"_parent\"><img src=\"https://colab.research.google.com/assets/colab-badge.svg\" alt=\"Open In Colab\"/></a>"
      ]
    },
    {
      "cell_type": "markdown",
      "source": [
        "Arrays\n"
      ],
      "metadata": {
        "id": "dJYzh_XSPXJc"
      }
    },
    {
      "cell_type": "code",
      "source": [
        "animal1=\"cat\"\n",
        "animal2 =\"dog\"\n",
        "animal3=\"fish\""
      ],
      "metadata": {
        "id": "2bnZYAhGPZGd"
      },
      "execution_count": 1,
      "outputs": []
    },
    {
      "cell_type": "code",
      "source": [
        "#Accessing the Elements in the Array\n",
        "animals=[\"cat\", \"dog\", \"fish\"]\n",
        "x=len(animals)\n",
        "print (\"The list of animals in an array are:\", animals)\n",
        "print(\"The animal in animals[o] is:\",x)\n",
        "for y in animals:\n",
        "  print(y)\n",
        "  "
      ],
      "metadata": {
        "colab": {
          "base_uri": "https://localhost:8080/"
        },
        "id": "2uX6CNz7QKaO",
        "outputId": "577fd721-c562-47c9-82cb-38f5239dcbbc"
      },
      "execution_count": 38,
      "outputs": [
        {
          "output_type": "stream",
          "name": "stdout",
          "text": [
            "The list of animals in an array are: ['cat', 'dog', 'fish']\n",
            "The animal in animals[o] is: 3\n",
            "cat\n",
            "dog\n",
            "fish\n"
          ]
        }
      ]
    },
    {
      "cell_type": "code",
      "source": [
        "#Modyfying Elements in the Array\n",
        "animals=[\"cat\", \"dog\", \"fish\"]\n",
        "\n",
        "animals[1]=\"monkey\"\n",
        "print (animals)"
      ],
      "metadata": {
        "colab": {
          "base_uri": "https://localhost:8080/"
        },
        "id": "SkwQjVi4Qkn_",
        "outputId": "06891730-ff43-4c9a-b5d9-4a143d930dfb"
      },
      "execution_count": 24,
      "outputs": [
        {
          "output_type": "stream",
          "name": "stdout",
          "text": [
            "['cat', 'monkey', 'fish']\n"
          ]
        }
      ]
    },
    {
      "cell_type": "markdown",
      "source": [
        "Length of an Array"
      ],
      "metadata": {
        "id": "s4GVAHHLTW1H"
      }
    },
    {
      "cell_type": "code",
      "source": [
        "animals=[\"cat\", \"dog\", \"fish\"]\n",
        "x = len(animals)\n",
        "print(x)"
      ],
      "metadata": {
        "colab": {
          "base_uri": "https://localhost:8080/"
        },
        "id": "eWCCNsxqTaCh",
        "outputId": "3bf6998a-7160-4048-a41d-a8e1a419bcc2"
      },
      "execution_count": 27,
      "outputs": [
        {
          "output_type": "stream",
          "name": "stdout",
          "text": [
            "3\n"
          ]
        }
      ]
    },
    {
      "cell_type": "markdown",
      "source": [
        "Looping Array Elements"
      ],
      "metadata": {
        "id": "JRAsMWqET9Z8"
      }
    },
    {
      "cell_type": "code",
      "source": [
        "verbs = [\"jumping\", \"eating\",\"swimming\"]\n",
        "animals=[\"cat\", \"dog\", \"fish\"]\n",
        "for k in verbs:\n",
        "   for j in animals:\n",
        "    print(k,j)"
      ],
      "metadata": {
        "colab": {
          "base_uri": "https://localhost:8080/"
        },
        "id": "CCULWCJ5T8vk",
        "outputId": "cd8ec355-d0e4-44db-d330-f7a21868799c"
      },
      "execution_count": 37,
      "outputs": [
        {
          "output_type": "stream",
          "name": "stdout",
          "text": [
            "jumping cat\n",
            "jumping dog\n",
            "jumping fish\n",
            "eating cat\n",
            "eating dog\n",
            "eating fish\n",
            "swimming cat\n",
            "swimming dog\n",
            "swimming fish\n"
          ]
        }
      ]
    },
    {
      "cell_type": "markdown",
      "source": [
        "Adding Elements in an Array"
      ],
      "metadata": {
        "id": "gZQwUYB7VXIb"
      }
    },
    {
      "cell_type": "code",
      "source": [
        "animals=[\"cat\", \"dog\", \"fish\"]\n",
        "animals.append(\"monkey\")\n",
        "print (animals)"
      ],
      "metadata": {
        "colab": {
          "base_uri": "https://localhost:8080/"
        },
        "id": "mk3i_cS9VZyT",
        "outputId": "7a4514f6-6508-4aa3-b1cc-b9334f5835cf"
      },
      "execution_count": 39,
      "outputs": [
        {
          "output_type": "stream",
          "name": "stdout",
          "text": [
            "['cat', 'dog', 'fish', 'monkey']\n"
          ]
        }
      ]
    },
    {
      "cell_type": "markdown",
      "source": [
        "Inserting Elements in an Array"
      ],
      "metadata": {
        "id": "e4TqxRTVVu8e"
      }
    },
    {
      "cell_type": "code",
      "source": [
        "animals=[\"cat\", \"dog\", \"fish\"]\n",
        "animals.insert(0,\"bird\")\n",
        "print (animals)"
      ],
      "metadata": {
        "colab": {
          "base_uri": "https://localhost:8080/"
        },
        "id": "CDzkFlFkVw9U",
        "outputId": "0ed1c6cd-113f-4e12-c36c-cba826084377"
      },
      "execution_count": 43,
      "outputs": [
        {
          "output_type": "stream",
          "name": "stdout",
          "text": [
            "['bird', 'cat', 'dog', 'fish']\n"
          ]
        }
      ]
    },
    {
      "cell_type": "markdown",
      "source": [
        "Removing Elements in an Array"
      ],
      "metadata": {
        "id": "8xGi-xt8WMrB"
      }
    },
    {
      "cell_type": "code",
      "source": [
        "animals=[\"cat\", \"dog\", \"fish\"]\n",
        "animals.pop(1)\n",
        "print (animals)"
      ],
      "metadata": {
        "colab": {
          "base_uri": "https://localhost:8080/"
        },
        "id": "xIvsjw8DWQo5",
        "outputId": "fffaeb82-09d9-4185-c78c-03be4dc89fac"
      },
      "execution_count": 44,
      "outputs": [
        {
          "output_type": "stream",
          "name": "stdout",
          "text": [
            "['cat', 'fish']\n"
          ]
        }
      ]
    },
    {
      "cell_type": "markdown",
      "source": [
        "Array module in Python"
      ],
      "metadata": {
        "id": "yGyKmzqqWhfu"
      }
    },
    {
      "cell_type": "code",
      "source": [],
      "metadata": {
        "id": "c6JUP5egWkPT"
      },
      "execution_count": null,
      "outputs": []
    }
  ]
}