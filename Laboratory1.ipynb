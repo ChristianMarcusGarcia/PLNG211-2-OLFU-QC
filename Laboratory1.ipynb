{
  "nbformat": 4,
  "nbformat_minor": 0,
  "metadata": {
    "colab": {
      "provenance": [],
      "authorship_tag": "ABX9TyMS3+/yQ9/N1WbmD49mAECh",
      "include_colab_link": true
    },
    "kernelspec": {
      "name": "python3",
      "display_name": "Python 3"
    },
    "language_info": {
      "name": "python"
    }
  },
  "cells": [
    {
      "cell_type": "markdown",
      "metadata": {
        "id": "view-in-github",
        "colab_type": "text"
      },
      "source": [
        "<a href=\"https://colab.research.google.com/github/ChristianMarcusGarcia/PLNG211-2-OLFU-QC/blob/main/Laboratory1.ipynb\" target=\"_parent\"><img src=\"https://colab.research.google.com/assets/colab-badge.svg\" alt=\"Open In Colab\"/></a>"
      ]
    },
    {
      "cell_type": "code",
      "execution_count": 12,
      "metadata": {
        "colab": {
          "base_uri": "https://localhost:8080/"
        },
        "id": "oA8xUCRVDV4z",
        "outputId": "2902500d-883d-4f3f-9b74-09803fa63d67"
      },
      "outputs": [
        {
          "output_type": "stream",
          "name": "stdout",
          "text": [
            "The list of integers are: [1, 2, 3, 4, 5, 6, 7, 8, 9, 10]\n",
            "The sum of all integers is: 55\n"
          ]
        }
      ],
      "source": [
        "#Write a Python program to create an array of 10 integers and display the array items. Access individual elements through indexes and compute for the sum.\n",
        "\n",
        "numbers=[1, 2, 3, 4, 5, 6, 7, 8, 9, 10]\n",
        "sum=0;\n",
        "print(\"The list of integers are:\",numbers)\n",
        "for x in range(0,len(numbers)):\n",
        " sum=sum + numbers[x]\n",
        "print(\"The sum of all integers is:\",sum);"
      ]
    },
    {
      "cell_type": "code",
      "source": [
        "#Write a Python program to append a new item to the end of the array. Original array: numbers = [1, 2, 3, 4, 5, 6, 7, 8, 9, 10]\n",
        "numbers=[1, 2, 3, 4, 5, 6, 7, 8, 9, 10]\n",
        "print(\"The list of integers are:\",numbers)\n",
        "numbers.append(11)\n",
        "print(\"The list of integers with a new item\",numbers)"
      ],
      "metadata": {
        "colab": {
          "base_uri": "https://localhost:8080/"
        },
        "id": "-RTw2aCaFTGF",
        "outputId": "6b473d96-a341-4c7d-b498-51f29784023c"
      },
      "execution_count": 17,
      "outputs": [
        {
          "output_type": "stream",
          "name": "stdout",
          "text": [
            "The list of integers are: [1, 2, 3, 4, 5, 6, 7, 8, 9, 10]\n",
            "The list of integers with a new item [1, 2, 3, 4, 5, 6, 7, 8, 9, 10, 11]\n"
          ]
        }
      ]
    },
    {
      "cell_type": "code",
      "source": [
        "#Write a Python program to insert a new item before the second element in an existing array. Original array: numbers = [1, 2, 3, 4, 5, 6, 7, 8, 9, 10]\n",
        "numbers=[1, 2, 3, 4, 5, 6, 7, 8, 9, 10]\n",
        "print(\"The list of integers are:\",numbers)\n",
        "numbers.insert(1,20)\n",
        "print (\"The list of integers with a number inserted before second element:\",numbers)"
      ],
      "metadata": {
        "colab": {
          "base_uri": "https://localhost:8080/"
        },
        "id": "wdpQw5XXHIeZ",
        "outputId": "93226232-65a3-4e29-cc6b-b09c76b84ff1"
      },
      "execution_count": 21,
      "outputs": [
        {
          "output_type": "stream",
          "name": "stdout",
          "text": [
            "The list of integers are: [1, 2, 3, 4, 5, 6, 7, 8, 9, 10]\n",
            "The list of integers with a number inserted before second element: [1, 20, 2, 3, 4, 5, 6, 7, 8, 9, 10]\n"
          ]
        }
      ]
    },
    {
      "cell_type": "code",
      "source": [
        "#Write a Python program to reverse the order of the items in the array. Original array: numbers = [5, 4, 3, 2, 1]\n",
        "numbers=[5, 4, 3, 2, 1]\n",
        "print(\"The list of integers are:\",numbers)\n",
        "numbers.reverse()\n",
        "print(\"The list of reversed integers are:\",numbers)\n"
      ],
      "metadata": {
        "colab": {
          "base_uri": "https://localhost:8080/"
        },
        "id": "IiipoxGsTCkW",
        "outputId": "1c44eb56-1266-47d3-decb-df6143e208c2"
      },
      "execution_count": 23,
      "outputs": [
        {
          "output_type": "stream",
          "name": "stdout",
          "text": [
            "The list of integers are: [5, 4, 3, 2, 1]\n",
            "The list of reversed integers are: [1, 2, 3, 4, 5]\n"
          ]
        }
      ]
    },
    {
      "cell_type": "code",
      "source": [
        "#Write a Python program to get the length of the array. Original array: numbers = [5, 4, 3, 2, 1]\n",
        "numbers=[5, 4, 3, 2, 1]\n",
        "print(\"The list of integers are:\",numbers)\n",
        "x = len(numbers)\n",
        "print(\"The length of the array is:\",x)"
      ],
      "metadata": {
        "colab": {
          "base_uri": "https://localhost:8080/"
        },
        "id": "DK2OseKqTiDP",
        "outputId": "2c64c959-5465-4dc2-9a5e-304b8370f235"
      },
      "execution_count": 24,
      "outputs": [
        {
          "output_type": "stream",
          "name": "stdout",
          "text": [
            "The list of integers are: [5, 4, 3, 2, 1]\n",
            "The length of the array is: 5\n"
          ]
        }
      ]
    }
  ]
}