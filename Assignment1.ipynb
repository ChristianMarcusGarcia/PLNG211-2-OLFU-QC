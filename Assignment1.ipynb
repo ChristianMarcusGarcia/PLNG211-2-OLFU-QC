{
  "nbformat": 4,
  "nbformat_minor": 0,
  "metadata": {
    "colab": {
      "provenance": [],
      "authorship_tag": "ABX9TyPQEOidiTipX8ej4SIHGdKx",
      "include_colab_link": true
    },
    "kernelspec": {
      "name": "python3",
      "display_name": "Python 3"
    },
    "language_info": {
      "name": "python"
    }
  },
  "cells": [
    {
      "cell_type": "markdown",
      "metadata": {
        "id": "view-in-github",
        "colab_type": "text"
      },
      "source": [
        "<a href=\"https://colab.research.google.com/github/ChristianMarcusGarcia/PLNG211-2-OLFU-QC/blob/main/Assignment1.ipynb\" target=\"_parent\"><img src=\"https://colab.research.google.com/assets/colab-badge.svg\" alt=\"Open In Colab\"/></a>"
      ]
    },
    {
      "cell_type": "code",
      "execution_count": 18,
      "metadata": {
        "colab": {
          "base_uri": "https://localhost:8080/"
        },
        "id": "QqAAU_QkjNpq",
        "outputId": "2175bce6-4290-4823-d6a5-cbaf16a27888"
      },
      "outputs": [
        {
          "output_type": "stream",
          "name": "stdout",
          "text": [
            "The odd numbers are: \n",
            "49\n",
            "87\n",
            "75\n",
            "The sum of the Odd numbers are: 211\n"
          ]
        }
      ],
      "source": [
        "numbers=[26,49,98,87,62,75]\n",
        "sum=0;\n",
        "print(\"The odd numbers are: \")\n",
        "for x in numbers:\n",
        "  if (x %2 != 0): \n",
        "    sum=sum+x\n",
        "    print(x)\n",
        "print(\"The sum of the Odd numbers are:\",sum)\n"
      ]
    }
  ]
}